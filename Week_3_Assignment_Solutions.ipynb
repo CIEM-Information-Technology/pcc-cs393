{
 "cells": [
  {
   "cell_type": "markdown",
   "id": "8dc8008a-241d-4358-8184-c12bbedbff28",
   "metadata": {},
   "source": [
    "# Questions\n",
    "\n",
    "1. Calculate the sum of squares and square of sum of first $n$ numbers using a Python function.\n",
    "2. Write a function which returns `True` if a number is palindrome and `False` if it is not. (A palindrome number remains the same if the digits are reversed).\n",
    "3. Write a function to calculate the sum of its digits.\n",
    "4. Write a python function to determine if a number is strong number or not. (A number is said to be strong number **if the factorial sum of all its digits is equal to that number**.)\n",
    "5. Write a python function to display Fibonacci series upto $n$ terms. "
   ]
  },
  {
   "cell_type": "markdown",
   "id": "6ee983ba-13d8-4d58-bb97-d0ba83c29046",
   "metadata": {},
   "source": [
    "**Sum of squares and square of sum**"
   ]
  },
  {
   "cell_type": "code",
   "execution_count": 1,
   "id": "40738806-bf11-4010-8e44-2cf5b128b88a",
   "metadata": {},
   "outputs": [
    {
     "name": "stdout",
     "output_type": "stream",
     "text": [
      "Sum of squares = 55\n",
      "Square of sum = 225\n"
     ]
    }
   ],
   "source": [
    "from functools import reduce\n",
    "\n",
    "# n = int(input(\"Enter a non negative integer: \"))\n",
    "n = 5\n",
    "numbers = [i for i in range(1, n+1)]\n",
    "square_of_sum = reduce(lambda x, y: x + y, numbers) ** 2\n",
    "sum_of_squares = reduce(\n",
    "    lambda x, y: x + y,\n",
    "    list(map(lambda x: x**2, numbers)))\n",
    "print(f\"Sum of squares = {sum_of_squares}\")\n",
    "print(f\"Square of sum = {square_of_sum}\")"
   ]
  },
  {
   "cell_type": "markdown",
   "id": "b785529b-00a7-47e8-99a2-571f0eb3b551",
   "metadata": {},
   "source": [
    "**Check if a number is Palindrome or not**"
   ]
  },
  {
   "cell_type": "code",
   "execution_count": 2,
   "id": "5f3565a0-cd87-4cc6-9f22-b6fae006f97e",
   "metadata": {},
   "outputs": [
    {
     "name": "stdout",
     "output_type": "stream",
     "text": [
      "Not Palindrome\n"
     ]
    }
   ],
   "source": [
    "# n = input(\"Enter a number : \")\n",
    "n = '123'\n",
    "print(\"Palindrome\") if n == n[::-1] else print(\"Not Palindrome\")"
   ]
  },
  {
   "cell_type": "markdown",
   "id": "c4b20798-c96c-4862-8ea2-511d0f4d1da2",
   "metadata": {},
   "source": [
    "**Calculate the sum of the digits**"
   ]
  },
  {
   "cell_type": "code",
   "execution_count": 3,
   "id": "d4c9399b-86e2-407e-affb-c1009ea76ba0",
   "metadata": {},
   "outputs": [
    {
     "data": {
      "text/plain": [
       "6"
      ]
     },
     "execution_count": 3,
     "metadata": {},
     "output_type": "execute_result"
    }
   ],
   "source": [
    "def sum_of_digits(n):\n",
    "    s = 0\n",
    "    for i in str(n):\n",
    "        s += int(i)\n",
    "    return s\n",
    "\n",
    "sum_of_digits(123)"
   ]
  },
  {
   "cell_type": "markdown",
   "id": "4d29d0a7-6549-4645-8550-a6d233339f45",
   "metadata": {},
   "source": []
  }
 ],
 "metadata": {
  "kernelspec": {
   "display_name": "PyPy3",
   "language": "python",
   "name": "pypy3"
  },
  "language_info": {
   "codemirror_mode": {
    "name": "ipython",
    "version": 3
   },
   "file_extension": ".py",
   "mimetype": "text/x-python",
   "name": "python",
   "nbconvert_exporter": "python",
   "pygments_lexer": "ipython3",
   "version": "3.10.4"
  }
 },
 "nbformat": 4,
 "nbformat_minor": 5
}
