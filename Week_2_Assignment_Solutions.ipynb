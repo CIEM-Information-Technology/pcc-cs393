{
  "nbformat": 4,
  "nbformat_minor": 0,
  "metadata": {
    "colab": {
      "name": "Week 2 Assignment Solutions.ipynb",
      "provenance": [],
      "authorship_tag": "ABX9TyPh7B9ax5M1Ce3iMtZwb+C7",
      "include_colab_link": true
    },
    "kernelspec": {
      "name": "python3",
      "display_name": "Python 3"
    },
    "language_info": {
      "name": "python"
    }
  },
  "cells": [
    {
      "cell_type": "markdown",
      "metadata": {
        "id": "view-in-github",
        "colab_type": "text"
      },
      "source": [
        "<a href=\"https://colab.research.google.com/github/CIEM-Information-Technology/pcc-cs393/blob/main/Week_2_Assignment_Solutions.ipynb\" target=\"_parent\"><img src=\"https://colab.research.google.com/assets/colab-badge.svg\" alt=\"Open In Colab\"/></a>"
      ]
    },
    {
      "cell_type": "markdown",
      "source": [
        "# Questions\n",
        "1. Write a Python function to find if a number is even or odd. Implement the function in a python program.\n",
        "2. Write a Python function to find if which is the greater number of two numbers. Implement the function in a python program.\n",
        "3. Write a Python function to prove Pasca's principal. $\\frac{a}{b} = \\frac{c}{d}$.\n",
        "4. Write a Python function to find if the given year is leap year or not. Implement the function.\n",
        "5. Write a Python function to find if the roots of a quadratic equation are imaginary, real or equal.\n"
      ],
      "metadata": {
        "id": "yPbRaI0WzYWW"
      }
    },
    {
      "cell_type": "markdown",
      "source": [
        "Write a function to find if a number is even or odd."
      ],
      "metadata": {
        "id": "JkrCv5huwzKl"
      }
    },
    {
      "cell_type": "code",
      "execution_count": null,
      "metadata": {
        "colab": {
          "base_uri": "https://localhost:8080/"
        },
        "id": "25psQWO1wyNb",
        "outputId": "9eed8454-88f6-43b0-f616-447d85f9f59a"
      },
      "outputs": [
        {
          "output_type": "stream",
          "name": "stdout",
          "text": [
            "Enter a number: 5\n",
            "Odd\n"
          ]
        }
      ],
      "source": [
        "def evenOdd(n: int):\n",
        "  return True if n % 2 == 0 else False\n",
        "\n",
        "n = int(input(\"Enter a number: \"))\n",
        "print(\"Even\") if evenOdd(n) else print(\"Odd\")"
      ]
    },
    {
      "cell_type": "markdown",
      "source": [
        "Write a function to find the greater number of the two."
      ],
      "metadata": {
        "id": "DzmI6Be1x388"
      }
    },
    {
      "cell_type": "code",
      "source": [
        "def greaterNumber(a, b):\n",
        "  return a > b\n",
        "\n",
        "n_1, n_2 = list(map(int, input(\"Enter two numbers: \").split()))\n",
        "print(f\"{n_1} is greater.\") if greaterNumber(n_1, n_2) else print(f\"{n_2} is greater.\")"
      ],
      "metadata": {
        "colab": {
          "base_uri": "https://localhost:8080/"
        },
        "id": "8-ndvqMmx_25",
        "outputId": "b09d2ae2-ee5e-4444-db8e-d9c3a6b5c7e1"
      },
      "execution_count": null,
      "outputs": [
        {
          "output_type": "stream",
          "name": "stdout",
          "text": [
            "Enter two numbers: 20 12\n",
            "20 is greater.\n"
          ]
        }
      ]
    },
    {
      "cell_type": "markdown",
      "source": [
        "Pascal's principal of fractions."
      ],
      "metadata": {
        "id": "JeZX01nByxj6"
      }
    },
    {
      "cell_type": "code",
      "source": [
        "def pascalPrincipal(frac_1, frac_2):\n",
        "  n_1, d_1 = [int(i) for i in frac_1.split(\"/\")]\n",
        "  n_2, d_2 = [int(i) for i in frac_2.split(\"/\")]\n",
        "  return True if n_1 / d_1 == n_2 / d_2 else False\n",
        "\n",
        "f_1, f_2 = input(\"Enter two fractions : \").split()\n",
        "print(\"Pascal's fractions\") if pascalPrincipal(f_1, f_2) else print(\"Not Pascal's fractions.\")"
      ],
      "metadata": {
        "colab": {
          "base_uri": "https://localhost:8080/"
        },
        "id": "TH0kke6jy7Hw",
        "outputId": "d627ef27-5247-4395-9c10-c8c2334b2fce"
      },
      "execution_count": null,
      "outputs": [
        {
          "output_type": "stream",
          "name": "stdout",
          "text": [
            "Enter two fractions : 1/2 2/3\n",
            "Not Pascal's fractions.\n"
          ]
        }
      ]
    },
    {
      "cell_type": "markdown",
      "source": [
        "Write a function to find if a year is leap year or not"
      ],
      "metadata": {
        "id": "prNxTjCH0OjV"
      }
    },
    {
      "cell_type": "code",
      "source": [
        "def leapYear(year: int):\n",
        "  return year % 4 == 0 and (year % 100 != 0 or year % 400 == 0)\n",
        "\n",
        "y = int(input(\"Enter a year: \"))\n",
        "print(\"Leap year.\") if leapYear(y) else print(\"Not leap year.\")"
      ],
      "metadata": {
        "colab": {
          "base_uri": "https://localhost:8080/"
        },
        "id": "R92Ipfis0VJ9",
        "outputId": "6b9fe164-1c0e-48a1-ee06-dd9cd38449aa"
      },
      "execution_count": null,
      "outputs": [
        {
          "output_type": "stream",
          "name": "stdout",
          "text": [
            "Enter a year: 1900\n",
            "Not leap year.\n"
          ]
        }
      ]
    },
    {
      "cell_type": "markdown",
      "source": [
        "Find the roots of a quadratic equation are real, imaginary or equal."
      ],
      "metadata": {
        "id": "uSsDMyie0y88"
      }
    },
    {
      "cell_type": "code",
      "source": [
        "from cmath import sqrt\n",
        "\n",
        "def quadraticRoots(a, b, c):\n",
        "  d = sqrt((b ** 2) - 4 * a * c)\n",
        "  r_1 = (- b + d) / (2 * a)\n",
        "  r_2 = (- b - d) / (2 * a)\n",
        "  return [r_1, r_2]\n",
        "\n",
        "# TODO : test the function."
      ],
      "metadata": {
        "colab": {
          "base_uri": "https://localhost:8080/"
        },
        "id": "1nrGptke1Kw2",
        "outputId": "38caff82-88df-45b7-e047-998996381bd4"
      },
      "execution_count": null,
      "outputs": [
        {
          "output_type": "stream",
          "name": "stdout",
          "text": [
            "[(-2+1j), (-2-1j)]\n"
          ]
        }
      ]
    },
    {
      "cell_type": "markdown",
      "source": [
        "# Bonus Questions"
      ],
      "metadata": {
        "id": "cc7pIpUSz0tY"
      }
    },
    {
      "cell_type": "markdown",
      "source": [
        "## Bonus Question 1\n",
        "In `deep.py`, implement a program that prompts the user for the answer to the Great Question of Life, the Universe and Everything, outputting `Yes` if the user inputs `42` or (case-insensitively) `forty-two` or `forty two`. Otherwise output `No`."
      ],
      "metadata": {
        "id": "Mgwh6OWj2VSr"
      }
    },
    {
      "cell_type": "code",
      "source": [
        "answer = input(\"What is the answer to the life, universe, and everything? \")\n",
        "answer = answer.lower()\n",
        "\n",
        "if answer in ['42', 'forty-two', 'forty two']:\n",
        "  print(\"Yes\")\n",
        "else:\n",
        "  print(\"No\")"
      ],
      "metadata": {
        "colab": {
          "base_uri": "https://localhost:8080/"
        },
        "id": "NiQ7X1NxsOjO",
        "outputId": "c26c58d7-e68b-4930-a226-2606238bde84"
      },
      "execution_count": 3,
      "outputs": [
        {
          "output_type": "stream",
          "name": "stdout",
          "text": [
            "What is the answer to the life, universe, and everything? forty two\n",
            "Yes\n"
          ]
        }
      ]
    },
    {
      "cell_type": "markdown",
      "source": [
        "## Bonus Question 2"
      ],
      "metadata": {
        "id": "Hzt3Rw6Os8DH"
      }
    },
    {
      "cell_type": "markdown",
      "source": [
        "Kramer visits a bank that promises to give `$100` to anyone who isn’t greeted with a “hello.” Kramer is instead greeted with a “hey,” which he insists isn’t a “hello,” and so he asks for `$100`. The bank’s manager proposes a compromise: “You got a greeting that starts with an ‘h,’ how does `$20` sound?” Kramer accepts.\n",
        "\n",
        "In a file called `bank.py`, implement a program that prompts the user for a greeting. If the greeting starts with “hello”, output `$0`. If the greeting starts with an “h” (but not “hello”), output `$20`. Otherwise, output `$100`. Ignore any leading whitespace in the user’s greeting, and treat the user’s greeting case-insensitively.\n"
      ],
      "metadata": {
        "id": "JCLYEJA0z7GQ"
      }
    },
    {
      "cell_type": "code",
      "source": [
        "greeting = input(\"Enter greeting : \")\n",
        "greeting = greeting.lower()\n",
        "\n",
        "if greeting == 'hello':\n",
        "  print(\"$0\")\n",
        "elif greeting[0] == 'h':\n",
        "  print(\"$20\")\n",
        "else:\n",
        "  print(\"$100\")\n"
      ],
      "metadata": {
        "colab": {
          "base_uri": "https://localhost:8080/"
        },
        "id": "JaXCdBmDsq9r",
        "outputId": "44266c2d-95f4-4520-8a61-bac52af28368"
      },
      "execution_count": 6,
      "outputs": [
        {
          "output_type": "stream",
          "name": "stdout",
          "text": [
            "Enter greeting : what's up\n",
            "$100\n"
          ]
        }
      ]
    },
    {
      "cell_type": "markdown",
      "source": [
        "## Bonus Question 3\n",
        "Python already supports math, whereby *you* can write code to add, subtract, multiply, or divide values and even variables. But let’s write a program that enables *users* to do math, even without knowing Python.\n",
        "\n",
        "In a file called `interpreter.py`, implement a program that prompts the user for an arithmetic expression and then calculates and outputs the result as a floating-point value formatted to one decimal place. Assume that the user’s input will be formatted as `x y z`, with one space between `x` and `y` and one space between `y` and `z`, wherein:\n",
        "\n",
        "\n",
        "- `x` is an integer\n",
        "- `y` is `+`, `-`, `*`, or `/`\n",
        "- `z` is an integer\n",
        "\n",
        "For instance, if the user inputs `1 + 1`, your program should output `2.0`. Assume that, if `y` is `/`, then `z` will not be `0`.\n",
        "\n",
        "Note that, just as `python` itself is an interpreter for Python, so will your `interpreter.py` be an interpreter for math!\n"
      ],
      "metadata": {
        "id": "Z2ErkgYKuQVa"
      }
    },
    {
      "cell_type": "code",
      "source": [
        "problem = input(\"Enter the math problem : \").split()\n",
        "x = float(problem[0])\n",
        "y = problem[1]\n",
        "z = float(problem[2])\n",
        "if y == '+':\n",
        "  r = x + z\n",
        "  print(\"{:.1f}\".format(r))\n",
        "elif y == '-':\n",
        "  r = x - z\n",
        "  print(\"{:.1f}\".format(r))\n",
        "elif y == '*':\n",
        "  r = x * z\n",
        "  print(\"{:.1f}\".format(r))\n",
        "elif y == '/':\n",
        "  if z != 0:\n",
        "    r = x - z\n",
        "    print(\"{:.1f}\".format(r))\n",
        "  else:\n",
        "    print(\"Can't divide by zero\")\n",
        "else:\n",
        "  print(\"Not a valid input\")"
      ],
      "metadata": {
        "colab": {
          "base_uri": "https://localhost:8080/"
        },
        "id": "rOM4mcB1uTnQ",
        "outputId": "752e58a4-d3e5-45e3-fba7-6689e8cda0cb"
      },
      "execution_count": 8,
      "outputs": [
        {
          "output_type": "stream",
          "name": "stdout",
          "text": [
            "Enter the math problem : 1 / 0\n",
            "Can't divide by zero\n",
            "3.0\n"
          ]
        }
      ]
    },
    {
      "cell_type": "markdown",
      "source": [
        "## Bonus Question 4\n",
        "Suppose that you’re in a country where it’s customary to eat breakfast between 7:00 and 8:00, lunch between 12:00 and 13:00, and dinner between 18:00 and 19:00. Wouldn’t it be nice if you had a program that could tell you what to eat when?\n",
        "\n",
        "In `meal.py`, implement a program that prompts the user for a time and outputs whether it’s `breakfast time`, `lunch time`, or `dinner time`. If it’s not time for a meal, don’t output anything at all. Assume that the user’s input will be formatted in 24-hour time as `#:##` or `##:##`. And assume that each meal’s time range is inclusive. For instance, whether it’s 7:00, 7:01, 7:59, or 8:00, or anytime in between, it’s time for breakfast.\n",
        "\n",
        "Structure your program per the below, wherein `convert` is a function (that can be called by `main`) that converts `time`, a `str` in 24-hour format, to the corresponding number of hours as a `float`. For instance, given a `time` like `\"7:30\"` (i.e., 7 hours and 30 minutes), `convert` should return `7.5` (i.e., 7.5 hours).\n",
        "\n",
        "```python\n",
        "def main():\n",
        "    ...\n",
        "\n",
        "\n",
        "def convert(time):\n",
        "    ...\n",
        "\n",
        "\n",
        "if __name__ == \"__main__\":\n",
        "    main()\n",
        "```\n"
      ],
      "metadata": {
        "id": "uiYIhM3KwQbS"
      }
    },
    {
      "cell_type": "code",
      "source": [
        "def convert(time):\n",
        "  h, m = [float(i) for i in time.split(\":\")]\n",
        "  m = m / 60\n",
        "  return h + m\n",
        "\n",
        "def main():\n",
        "  time_string = input(\"Please enter time : (HH:MM) \")\n",
        "  t = convert(time_string)\n",
        "\n",
        "  if 7 <= t <= 8:\n",
        "    print(\"Breakfast time.\")\n",
        "  elif 12 <= t <= 13:\n",
        "    print(\"Lunch time\")\n",
        "  elif 18 <= t <= 19:\n",
        "    print(\"Dinner time\")\n",
        "\n",
        "main()"
      ],
      "metadata": {
        "colab": {
          "base_uri": "https://localhost:8080/"
        },
        "id": "6QTwLkL-wSUt",
        "outputId": "2e67de99-c874-4a39-9f23-6360c4104364"
      },
      "execution_count": 4,
      "outputs": [
        {
          "output_type": "stream",
          "name": "stdout",
          "text": [
            "Please enter time : (HH:MM) 8:00\n",
            "Breakfast time.\n"
          ]
        }
      ]
    }
  ]
}