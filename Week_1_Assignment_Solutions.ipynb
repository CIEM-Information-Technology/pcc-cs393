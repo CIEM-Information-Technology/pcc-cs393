{
  "nbformat": 4,
  "nbformat_minor": 0,
  "metadata": {
    "colab": {
      "name": "Week_1_Assignment Solutions.ipynb",
      "provenance": [],
      "authorship_tag": "ABX9TyP+WAZxxI2By5gB0yVLuwSr",
      "include_colab_link": true
    },
    "kernelspec": {
      "name": "python3",
      "display_name": "Python 3"
    },
    "language_info": {
      "name": "python"
    }
  },
  "cells": [
    {
      "cell_type": "markdown",
      "metadata": {
        "id": "view-in-github",
        "colab_type": "text"
      },
      "source": [
        "<a href=\"https://colab.research.google.com/github/CIEM-Information-Technology/pcc-cs393/blob/main/Week_1_Assignment_Solutions.ipynb\" target=\"_parent\"><img src=\"https://colab.research.google.com/assets/colab-badge.svg\" alt=\"Open In Colab\"/></a>"
      ]
    },
    {
      "cell_type": "markdown",
      "source": [
        "**Question 1**"
      ],
      "metadata": {
        "id": "XJxI38bP6R9b"
      }
    },
    {
      "cell_type": "code",
      "execution_count": null,
      "metadata": {
        "colab": {
          "base_uri": "https://localhost:8080/"
        },
        "id": "rq8lBw1y6Pso",
        "outputId": "a3a3fac3-2ae1-4ac8-b00f-f8347b9a2b56"
      },
      "outputs": [
        {
          "output_type": "stream",
          "name": "stdout",
          "text": [
            "Enter a string in uppercase: THIS IS A TES\n",
            "this is a tes\n"
          ]
        }
      ],
      "source": [
        "uppercase_string = input(\"Enter a string in uppercase: \")\n",
        "lowercase_string = uppercase_string.lower()\n",
        "print(lowercase_string)"
      ]
    },
    {
      "cell_type": "markdown",
      "source": [
        "**Question 2**"
      ],
      "metadata": {
        "id": "RZnAZFk57xD9"
      }
    },
    {
      "cell_type": "code",
      "source": [
        "input_string = input(\"Enter a string: \")\n",
        "output_string = input_string.replace(\" \", \"...\")\n",
        "print(output_string)"
      ],
      "metadata": {
        "colab": {
          "base_uri": "https://localhost:8080/"
        },
        "id": "9VnVbGvZ601v",
        "outputId": "41aa4010-238c-4fc8-a7ff-c12759d3d9c8"
      },
      "execution_count": null,
      "outputs": [
        {
          "output_type": "stream",
          "name": "stdout",
          "text": [
            "Enter a string: This is a test\n",
            "This...is...a...test\n"
          ]
        }
      ]
    },
    {
      "cell_type": "markdown",
      "source": [
        "**Question 3**"
      ],
      "metadata": {
        "id": "gNh_f19P7_7J"
      }
    },
    {
      "cell_type": "code",
      "source": [
        "c = 3e8\n",
        "m = int(input(\"Enter mass of the object: \"))\n",
        "e = m * (c ** 2)\n",
        "print(f\"Energy = {e} Joules\")"
      ],
      "metadata": {
        "colab": {
          "base_uri": "https://localhost:8080/"
        },
        "id": "8UGImKxy8D1_",
        "outputId": "aa5d5053-1bd3-424a-e7dc-cb159c50f542"
      },
      "execution_count": null,
      "outputs": [
        {
          "output_type": "stream",
          "name": "stdout",
          "text": [
            "Enter mass of the object: 1\n",
            "Energy = 9e+16 Joules\n"
          ]
        }
      ]
    },
    {
      "cell_type": "markdown",
      "source": [
        "**Question 4**"
      ],
      "metadata": {
        "id": "QHueYz7S82xQ"
      }
    },
    {
      "cell_type": "code",
      "source": [
        "mass = int(input(\"Enter Mass :\"))\n",
        "velocity = int(input(\"Enter Velocity :\"))\n",
        "height = int(input(\"Enter Height :\"))\n",
        "\n",
        "# gravitational constant\n",
        "g = 9.8\n",
        "\n",
        "K_E = 0.5 * mass * (velocity ** 2)\n",
        "P_E = mass * g * height\n",
        "\n",
        "print(f\"KE = {K_E}J, PE = {P_E}J\")"
      ],
      "metadata": {
        "colab": {
          "base_uri": "https://localhost:8080/"
        },
        "id": "T_1k98AG85H9",
        "outputId": "f961e067-c80b-4c53-f968-34364715ee6d"
      },
      "execution_count": null,
      "outputs": [
        {
          "output_type": "stream",
          "name": "stdout",
          "text": [
            "Enter Mass :1\n",
            "Enter Velocity :10\n",
            "Enter Height :20\n",
            "KE = 50.0J, PE = 196.0J\n"
          ]
        }
      ]
    },
    {
      "cell_type": "markdown",
      "source": [
        "**Question 5**"
      ],
      "metadata": {
        "id": "0hrP9AOj_anR"
      }
    },
    {
      "cell_type": "code",
      "source": [
        "c = int(input(\"Enter temperature in Celsius: \"))\n",
        "f = ((c * 9) / 5) + 32\n",
        "print(f\"{c}C = {f}F\")"
      ],
      "metadata": {
        "colab": {
          "base_uri": "https://localhost:8080/"
        },
        "id": "fXoTMdXE_cpR",
        "outputId": "208b888d-9667-4675-b3eb-f38baaefd0b2"
      },
      "execution_count": null,
      "outputs": [
        {
          "output_type": "stream",
          "name": "stdout",
          "text": [
            "Enter temperature in Celsius: 50\n",
            "50C = 122.0F\n"
          ]
        }
      ]
    },
    {
      "cell_type": "markdown",
      "source": [
        "**Bonus 1**"
      ],
      "metadata": {
        "id": "bgZ5jR3oALmo"
      }
    },
    {
      "cell_type": "code",
      "source": [
        "mass = float(input(\"Enter Mass :\"))\n",
        "velocity = float(input(\"Enter Velocity :\"))\n",
        "\n",
        "K_E = 0.5 * mass * (velocity ** 2)\n",
        "P_E = K_E\n",
        "\n",
        "print(f\"KE = {K_E}J, PE = {P_E}J\")"
      ],
      "metadata": {
        "colab": {
          "base_uri": "https://localhost:8080/"
        },
        "id": "iCCxBQWrALFD",
        "outputId": "f7ff66a6-ba3d-42f5-9cc3-a9718a754ff3"
      },
      "execution_count": null,
      "outputs": [
        {
          "output_type": "stream",
          "name": "stdout",
          "text": [
            "Enter Mass :0.1\n",
            "Enter Velocity :20\n",
            "KE = 20.0J, PE = 20.0J\n"
          ]
        }
      ]
    },
    {
      "cell_type": "markdown",
      "source": [
        "**Bonus 2**"
      ],
      "metadata": {
        "id": "a4GfOxvzAn-X"
      }
    },
    {
      "cell_type": "markdown",
      "source": [
        "List comprehension way\n",
        "\n"
      ],
      "metadata": {
        "id": "NRM4ARfLAsLx"
      }
    },
    {
      "cell_type": "code",
      "source": [
        "f_a, f_b = input(\"Enter two fractions : \").split(\" \")[:2]\n",
        "n_1, d_1 = [int(i) for i in f_a.split(\"/\")]\n",
        "n_2, d_2 = [int(i) for i in f_b.split(\"/\")]\n",
        "r = [\n",
        "     str((n_1 * d_2) + (n_2 * d_1)),\n",
        "     str(d_1 * d_2)\n",
        "]\n",
        "print(\"The result is \" + \"/\".join(r))"
      ],
      "metadata": {
        "colab": {
          "base_uri": "https://localhost:8080/"
        },
        "id": "yd7Q2Qh5Aqzt",
        "outputId": "2eff326e-9bb0-413a-f39b-a219fd604f98"
      },
      "execution_count": null,
      "outputs": [
        {
          "output_type": "stream",
          "name": "stdout",
          "text": [
            "Enter two fractions : 1/2 3/4\n",
            "The result is 10/8\n"
          ]
        }
      ]
    },
    {
      "cell_type": "markdown",
      "source": [
        "General way"
      ],
      "metadata": {
        "id": "Hs9PSg8NCsKp"
      }
    },
    {
      "cell_type": "code",
      "source": [
        "n_1, d_1 = input(\"Enter a fraction : \").split(\"/\")\n",
        "n_2, d_2 = input(\"Enter another fraction : \").split(\"/\")\n",
        "\n",
        "n_1, n_2, d_1, d_2 = int(n_1), int(n_2), int(d_1), int(d_2)\n",
        "r = [\n",
        "     str((n_1 * d_2) + (n_2 * d_1)),\n",
        "     str(d_1 * d_2)\n",
        "]\n",
        "print(\"The result is \" + \"/\".join(r))"
      ],
      "metadata": {
        "colab": {
          "base_uri": "https://localhost:8080/"
        },
        "id": "9azydMdcCuLy",
        "outputId": "61df2aba-96b6-4e5b-add2-9aff41b2144a"
      },
      "execution_count": null,
      "outputs": [
        {
          "output_type": "stream",
          "name": "stdout",
          "text": [
            "Enter a fraction : 1/2\n",
            "Enter another fraction : 3/4\n",
            "The result is 10/8\n"
          ]
        }
      ]
    }
  ]
}